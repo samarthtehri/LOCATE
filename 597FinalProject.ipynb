{
  "nbformat": 4,
  "nbformat_minor": 0,
  "metadata": {
    "colab": {
      "provenance": [],
      "gpuType": "V100"
    },
    "kernelspec": {
      "name": "python3",
      "display_name": "Python 3"
    },
    "language_info": {
      "name": "python"
    },
    "accelerator": "GPU"
  },
  "cells": [
    {
      "cell_type": "code",
      "source": [
        "# Get gdown to download large google files. Manually insert best_seen.pth and best_unseen.pth here\n",
        "!pip install gdown\n",
        "#!gdown 1OEz25-u1uqKfeuyCqy7hmiOv7lIWfigk # sometimes it says it cannot retrieve, alternate link below. Please uncomment it\n",
        "!gdown 1eFpg24xWTAHSWX3eRojFETA8SEA31lnd"
      ],
      "metadata": {
        "colab": {
          "base_uri": "https://localhost:8080/"
        },
        "id": "5rS7-pXTOCIJ",
        "outputId": "47cefcad-d546-42d9-ed94-546e187c5199"
      },
      "execution_count": 6,
      "outputs": [
        {
          "output_type": "stream",
          "name": "stdout",
          "text": [
            "Requirement already satisfied: gdown in /usr/local/lib/python3.10/dist-packages (4.6.6)\n",
            "Requirement already satisfied: filelock in /usr/local/lib/python3.10/dist-packages (from gdown) (3.13.1)\n",
            "Requirement already satisfied: requests[socks] in /usr/local/lib/python3.10/dist-packages (from gdown) (2.31.0)\n",
            "Requirement already satisfied: six in /usr/local/lib/python3.10/dist-packages (from gdown) (1.16.0)\n",
            "Requirement already satisfied: tqdm in /usr/local/lib/python3.10/dist-packages (from gdown) (4.66.1)\n",
            "Requirement already satisfied: beautifulsoup4 in /usr/local/lib/python3.10/dist-packages (from gdown) (4.11.2)\n",
            "Requirement already satisfied: soupsieve>1.2 in /usr/local/lib/python3.10/dist-packages (from beautifulsoup4->gdown) (2.5)\n",
            "Requirement already satisfied: charset-normalizer<4,>=2 in /usr/local/lib/python3.10/dist-packages (from requests[socks]->gdown) (3.3.2)\n",
            "Requirement already satisfied: idna<4,>=2.5 in /usr/local/lib/python3.10/dist-packages (from requests[socks]->gdown) (3.6)\n",
            "Requirement already satisfied: urllib3<3,>=1.21.1 in /usr/local/lib/python3.10/dist-packages (from requests[socks]->gdown) (2.0.7)\n",
            "Requirement already satisfied: certifi>=2017.4.17 in /usr/local/lib/python3.10/dist-packages (from requests[socks]->gdown) (2023.11.17)\n",
            "Requirement already satisfied: PySocks!=1.5.7,>=1.5.6 in /usr/local/lib/python3.10/dist-packages (from requests[socks]->gdown) (1.7.1)\n",
            "Downloading...\n",
            "From: https://drive.google.com/uc?id=1eFpg24xWTAHSWX3eRojFETA8SEA31lnd\n",
            "To: /content/AGD20K.zip\n",
            "100% 6.70G/6.70G [01:12<00:00, 92.0MB/s]\n"
          ]
        }
      ]
    },
    {
      "cell_type": "code",
      "source": [
        "# Unzip large google file quietly and remove zip file\n",
        "!unzip -q AGD20K.zip\n",
        "!rm AGD20K.zip"
      ],
      "metadata": {
        "id": "3drIuJbuNETM"
      },
      "execution_count": 7,
      "outputs": []
    },
    {
      "cell_type": "code",
      "source": [
        "# Clone and check repository - sanity check\n",
        "!git clone https://github.com/Reagan1311/LOCATE.git\n",
        "%cd LOCATE/\n",
        "%ls"
      ],
      "metadata": {
        "colab": {
          "base_uri": "https://localhost:8080/"
        },
        "id": "pT1PCQ3QMxAC",
        "outputId": "1f9f52c6-bf4a-435c-a5f0-6d45b77b5399"
      },
      "execution_count": 8,
      "outputs": [
        {
          "output_type": "stream",
          "name": "stdout",
          "text": [
            "Cloning into 'LOCATE'...\n",
            "remote: Enumerating objects: 34, done.\u001b[K\n",
            "remote: Counting objects: 100% (34/34), done.\u001b[K\n",
            "remote: Compressing objects: 100% (31/31), done.\u001b[K\n",
            "remote: Total 34 (delta 4), reused 21 (delta 2), pack-reused 0\u001b[K\n",
            "Receiving objects: 100% (34/34), 1.83 MiB | 5.88 MiB/s, done.\n",
            "Resolving deltas: 100% (4/4), done.\n",
            "/content/LOCATE\n",
            "\u001b[0m\u001b[01;34massets\u001b[0m/  \u001b[01;34mdata\u001b[0m/  LICENSE  \u001b[01;34mmodels\u001b[0m/  README.md  requirements.txt  test.py  train.py  \u001b[01;34mutils\u001b[0m/\n"
          ]
        }
      ]
    },
    {
      "cell_type": "code",
      "execution_count": 9,
      "metadata": {
        "colab": {
          "base_uri": "https://localhost:8080/",
          "height": 1000
        },
        "id": "M3AmrFTUMHZS",
        "outputId": "e3e130d0-0dfd-49c4-a89d-b0c055caf8ce"
      },
      "outputs": [
        {
          "output_type": "stream",
          "name": "stdout",
          "text": [
            "Looking in indexes: https://pypi.org/simple, https://download.pytorch.org/whl/cu116\n",
            "Collecting torch==1.12.1+cu116\n",
            "  Downloading https://download.pytorch.org/whl/cu116/torch-1.12.1%2Bcu116-cp310-cp310-linux_x86_64.whl (1904.8 MB)\n",
            "\u001b[2K     \u001b[90m━━━━━━━━━━━━━━━━━━━━━━━━━━━━━━━━━━━━━━━━\u001b[0m \u001b[32m1.9/1.9 GB\u001b[0m \u001b[31m679.3 kB/s\u001b[0m eta \u001b[36m0:00:00\u001b[0m\n",
            "\u001b[?25hCollecting torchvision==0.13.1+cu116\n",
            "  Downloading https://download.pytorch.org/whl/cu116/torchvision-0.13.1%2Bcu116-cp310-cp310-linux_x86_64.whl (23.5 MB)\n",
            "\u001b[2K     \u001b[90m━━━━━━━━━━━━━━━━━━━━━━━━━━━━━━━━━━━━━━━━\u001b[0m \u001b[32m23.5/23.5 MB\u001b[0m \u001b[31m48.2 MB/s\u001b[0m eta \u001b[36m0:00:00\u001b[0m\n",
            "\u001b[?25hCollecting torchaudio==0.12.1\n",
            "  Downloading https://download.pytorch.org/whl/cu116/torchaudio-0.12.1%2Bcu116-cp310-cp310-linux_x86_64.whl (3.8 MB)\n",
            "\u001b[2K     \u001b[90m━━━━━━━━━━━━━━━━━━━━━━━━━━━━━━━━━━━━━━━━\u001b[0m \u001b[32m3.8/3.8 MB\u001b[0m \u001b[31m60.8 MB/s\u001b[0m eta \u001b[36m0:00:00\u001b[0m\n",
            "\u001b[?25hRequirement already satisfied: typing-extensions in /usr/local/lib/python3.10/dist-packages (from torch==1.12.1+cu116) (4.5.0)\n",
            "Requirement already satisfied: numpy in /usr/local/lib/python3.10/dist-packages (from torchvision==0.13.1+cu116) (1.23.5)\n",
            "Requirement already satisfied: requests in /usr/local/lib/python3.10/dist-packages (from torchvision==0.13.1+cu116) (2.31.0)\n",
            "Requirement already satisfied: pillow!=8.3.*,>=5.3.0 in /usr/local/lib/python3.10/dist-packages (from torchvision==0.13.1+cu116) (9.4.0)\n",
            "Requirement already satisfied: charset-normalizer<4,>=2 in /usr/local/lib/python3.10/dist-packages (from requests->torchvision==0.13.1+cu116) (3.3.2)\n",
            "Requirement already satisfied: idna<4,>=2.5 in /usr/local/lib/python3.10/dist-packages (from requests->torchvision==0.13.1+cu116) (3.6)\n",
            "Requirement already satisfied: urllib3<3,>=1.21.1 in /usr/local/lib/python3.10/dist-packages (from requests->torchvision==0.13.1+cu116) (2.0.7)\n",
            "Requirement already satisfied: certifi>=2017.4.17 in /usr/local/lib/python3.10/dist-packages (from requests->torchvision==0.13.1+cu116) (2023.11.17)\n",
            "Installing collected packages: torch, torchvision, torchaudio\n",
            "  Attempting uninstall: torch\n",
            "    Found existing installation: torch 2.1.0+cu118\n",
            "    Uninstalling torch-2.1.0+cu118:\n",
            "      Successfully uninstalled torch-2.1.0+cu118\n",
            "  Attempting uninstall: torchvision\n",
            "    Found existing installation: torchvision 0.16.0+cu118\n",
            "    Uninstalling torchvision-0.16.0+cu118:\n",
            "      Successfully uninstalled torchvision-0.16.0+cu118\n",
            "  Attempting uninstall: torchaudio\n",
            "    Found existing installation: torchaudio 2.1.0+cu118\n",
            "    Uninstalling torchaudio-2.1.0+cu118:\n",
            "      Successfully uninstalled torchaudio-2.1.0+cu118\n",
            "\u001b[31mERROR: pip's dependency resolver does not currently take into account all the packages that are installed. This behaviour is the source of the following dependency conflicts.\n",
            "torchdata 0.7.0 requires torch==2.1.0, but you have torch 1.12.1+cu116 which is incompatible.\n",
            "torchtext 0.16.0 requires torch==2.1.0, but you have torch 1.12.1+cu116 which is incompatible.\u001b[0m\u001b[31m\n",
            "\u001b[0mSuccessfully installed torch-1.12.1+cu116 torchaudio-0.12.1+cu116 torchvision-0.13.1+cu116\n",
            "Collecting argparse (from -r requirements.txt (line 1))\n",
            "  Downloading argparse-1.4.0-py2.py3-none-any.whl (23 kB)\n",
            "Requirement already satisfied: tqdm in /usr/local/lib/python3.10/dist-packages (from -r requirements.txt (line 2)) (4.66.1)\n",
            "Collecting fast-pytorch-kmeans (from -r requirements.txt (line 3))\n",
            "  Downloading fast_pytorch_kmeans-0.2.0.1-py3-none-any.whl (8.8 kB)\n",
            "Requirement already satisfied: numpy in /usr/local/lib/python3.10/dist-packages (from -r requirements.txt (line 4)) (1.23.5)\n",
            "Requirement already satisfied: matplotlib in /usr/local/lib/python3.10/dist-packages (from -r requirements.txt (line 5)) (3.7.1)\n",
            "Requirement already satisfied: opencv-python in /usr/local/lib/python3.10/dist-packages (from -r requirements.txt (line 6)) (4.8.0.76)\n",
            "Requirement already satisfied: torch in /usr/local/lib/python3.10/dist-packages (from fast-pytorch-kmeans->-r requirements.txt (line 3)) (1.12.1+cu116)\n",
            "Collecting pynvml (from fast-pytorch-kmeans->-r requirements.txt (line 3))\n",
            "  Downloading pynvml-11.5.0-py3-none-any.whl (53 kB)\n",
            "\u001b[2K     \u001b[90m━━━━━━━━━━━━━━━━━━━━━━━━━━━━━━━━━━━━━━━━\u001b[0m \u001b[32m53.1/53.1 kB\u001b[0m \u001b[31m1.3 MB/s\u001b[0m eta \u001b[36m0:00:00\u001b[0m\n",
            "\u001b[?25hRequirement already satisfied: contourpy>=1.0.1 in /usr/local/lib/python3.10/dist-packages (from matplotlib->-r requirements.txt (line 5)) (1.2.0)\n",
            "Requirement already satisfied: cycler>=0.10 in /usr/local/lib/python3.10/dist-packages (from matplotlib->-r requirements.txt (line 5)) (0.12.1)\n",
            "Requirement already satisfied: fonttools>=4.22.0 in /usr/local/lib/python3.10/dist-packages (from matplotlib->-r requirements.txt (line 5)) (4.46.0)\n",
            "Requirement already satisfied: kiwisolver>=1.0.1 in /usr/local/lib/python3.10/dist-packages (from matplotlib->-r requirements.txt (line 5)) (1.4.5)\n",
            "Requirement already satisfied: packaging>=20.0 in /usr/local/lib/python3.10/dist-packages (from matplotlib->-r requirements.txt (line 5)) (23.2)\n",
            "Requirement already satisfied: pillow>=6.2.0 in /usr/local/lib/python3.10/dist-packages (from matplotlib->-r requirements.txt (line 5)) (9.4.0)\n",
            "Requirement already satisfied: pyparsing>=2.3.1 in /usr/local/lib/python3.10/dist-packages (from matplotlib->-r requirements.txt (line 5)) (3.1.1)\n",
            "Requirement already satisfied: python-dateutil>=2.7 in /usr/local/lib/python3.10/dist-packages (from matplotlib->-r requirements.txt (line 5)) (2.8.2)\n",
            "Requirement already satisfied: six>=1.5 in /usr/local/lib/python3.10/dist-packages (from python-dateutil>=2.7->matplotlib->-r requirements.txt (line 5)) (1.16.0)\n",
            "Requirement already satisfied: typing-extensions in /usr/local/lib/python3.10/dist-packages (from torch->fast-pytorch-kmeans->-r requirements.txt (line 3)) (4.5.0)\n",
            "Installing collected packages: argparse, pynvml, fast-pytorch-kmeans\n",
            "Successfully installed argparse-1.4.0 fast-pytorch-kmeans-0.2.0.1 pynvml-11.5.0\n"
          ]
        },
        {
          "output_type": "display_data",
          "data": {
            "application/vnd.colab-display-data+json": {
              "pip_warning": {
                "packages": [
                  "argparse"
                ]
              }
            }
          },
          "metadata": {}
        }
      ],
      "source": [
        "# Install Dependencies and other requirements by the LOCATE project\n",
        "!pip install torch==1.12.1+cu116 torchvision==0.13.1+cu116 torchaudio==0.12.1 --extra-index-url https://download.pytorch.org/whl/cu116\n",
        "!pip install -r requirements.txt"
      ]
    },
    {
      "cell_type": "code",
      "source": [
        "# Check current GPU config before running train and test\n",
        "!nvidia-smi"
      ],
      "metadata": {
        "id": "m_osV6VXM3je",
        "colab": {
          "base_uri": "https://localhost:8080/"
        },
        "outputId": "f9175735-24a6-4e0a-ecaf-bad80354feb3"
      },
      "execution_count": 1,
      "outputs": [
        {
          "output_type": "stream",
          "name": "stdout",
          "text": [
            "Mon Dec 11 22:11:29 2023       \n",
            "+-----------------------------------------------------------------------------+\n",
            "| NVIDIA-SMI 525.105.17   Driver Version: 525.105.17   CUDA Version: 12.0     |\n",
            "|-------------------------------+----------------------+----------------------+\n",
            "| GPU  Name        Persistence-M| Bus-Id        Disp.A | Volatile Uncorr. ECC |\n",
            "| Fan  Temp  Perf  Pwr:Usage/Cap|         Memory-Usage | GPU-Util  Compute M. |\n",
            "|                               |                      |               MIG M. |\n",
            "|===============================+======================+======================|\n",
            "|   0  Tesla V100-SXM2...  Off  | 00000000:00:04.0 Off |                    0 |\n",
            "| N/A   35C    P0    24W / 300W |      0MiB / 16384MiB |      0%      Default |\n",
            "|                               |                      |                  N/A |\n",
            "+-------------------------------+----------------------+----------------------+\n",
            "                                                                               \n",
            "+-----------------------------------------------------------------------------+\n",
            "| Processes:                                                                  |\n",
            "|  GPU   GI   CI        PID   Type   Process name                  GPU Memory |\n",
            "|        ID   ID                                                   Usage      |\n",
            "|=============================================================================|\n",
            "|  No running processes found                                                 |\n",
            "+-----------------------------------------------------------------------------+\n"
          ]
        }
      ]
    },
    {
      "cell_type": "code",
      "source": [
        "# Now for the seen part. Due to time constraints, limiting epochs to 5\n",
        "# Run Training as per the LOCATE repository but Modified Train code for slightly faster code\n",
        "# modified num_workers (inc test) to 2 for colab efficiency, show every 50 steps\n",
        "# modified batch size to 32 and epochs to 5 to utilize gpu memory, testing on large batch size and less epochs\n",
        "# NOTE: done on V100 GPU on colab, each 100 step update takes about 5 mins to show. For faster sense of updates, try step size of 10\n",
        "# improved code calculation, reduced some loops using parallelization\n",
        "%cd LOCATE/\n",
        "!python trainMOD.py --data_root ../AGD20K/ --batch_size 32 --num_workers 2 --test_num_workers 2 --epochs 5"
      ],
      "metadata": {
        "colab": {
          "base_uri": "https://localhost:8080/"
        },
        "id": "w7LhftNtmt4W",
        "outputId": "71975bb8-2497-41da-8a2f-380c32035259"
      },
      "execution_count": 2,
      "outputs": [
        {
          "output_type": "stream",
          "name": "stdout",
          "text": [
            "/content/LOCATE\n",
            "data_root=../AGD20K/\n",
            "save_root=save_models\n",
            "divide=Seen\n",
            "crop_size=224\n",
            "resize_size=256\n",
            "num_workers=2\n",
            "batch_size=32\n",
            "warm_epoch=0\n",
            "epochs=5\n",
            "lr=0.001\n",
            "momentum=0.9\n",
            "weight_decay=0.0005\n",
            "show_step=100\n",
            "gpu=0\n",
            "viz=False\n",
            "test_batch_size=1\n",
            "test_num_workers=2\n",
            "num_classes=36\n",
            "exocentric_root=../AGD20K/Seen/trainset/exocentric\n",
            "egocentric_root=../AGD20K/Seen/trainset/egocentric\n",
            "test_root=../AGD20K/Seen/testset/egocentric\n",
            "mask_root=../AGD20K/Seen/testset/GT\n",
            "save_path=save_models/20231211_221135\n",
            "Downloading: \"https://dl.fbaipublicfiles.com/dino/dino_deitsmall16_pretrain/dino_deitsmall16_pretrain.pth\" to /root/.cache/torch/hub/checkpoints/dino_deitsmall16_pretrain.pth\n",
            "100% 82.7M/82.7M [00:00<00:00, 162MB/s]\n",
            "Train begining!\n",
            "LR = [0.001, 0.002, 0.01, 0.02]\n",
            "epoch: 1/5 + 100/627 | exo_aff_acc: 28.375 | ego_ce: 2.386 | exo_ce: 0.891 | con_loss: 0.000 | loss_cen: 0.045\n",
            "epoch: 1/5 + 200/627 | exo_aff_acc: 34.625 | ego_ce: 1.680 | exo_ce: 0.672 | con_loss: 0.000 | loss_cen: 0.045\n",
            "epoch: 1/5 + 300/627 | exo_aff_acc: 38.031 | ego_ce: 1.904 | exo_ce: 0.732 | con_loss: 0.000 | loss_cen: 0.044\n",
            "epoch: 1/5 + 400/627 | exo_aff_acc: 40.297 | ego_ce: 1.247 | exo_ce: 0.601 | con_loss: 0.000 | loss_cen: 0.044\n",
            "epoch: 1/5 + 500/627 | exo_aff_acc: 42.188 | ego_ce: 1.155 | exo_ce: 0.495 | con_loss: 0.000 | loss_cen: 0.044\n",
            "epoch: 1/5 + 600/627 | exo_aff_acc: 43.661 | ego_ce: 1.340 | exo_ce: 0.494 | con_loss: 0.000 | loss_cen: 0.044\n",
            "epoch=1 mKLD = 1.69 mSIM = 0.298 mNSS = 0.793 bestKLD = 1000\n",
            "LR = [0.001, 0.002, 0.01, 0.02]\n",
            "epoch: 2/5 + 100/627 | exo_aff_acc: 51.219 | ego_ce: 1.288 | exo_ce: 0.594 | con_loss: 0.259 | loss_cen: 0.043\n",
            "epoch: 2/5 + 200/627 | exo_aff_acc: 51.828 | ego_ce: 0.985 | exo_ce: 0.436 | con_loss: 0.222 | loss_cen: 0.042\n",
            "epoch: 2/5 + 300/627 | exo_aff_acc: 52.396 | ego_ce: 1.045 | exo_ce: 0.544 | con_loss: 0.148 | loss_cen: 0.042\n",
            "epoch: 2/5 + 400/627 | exo_aff_acc: 52.703 | ego_ce: 1.244 | exo_ce: 0.540 | con_loss: 0.231 | loss_cen: 0.041\n",
            "epoch: 2/5 + 500/627 | exo_aff_acc: 53.156 | ego_ce: 1.494 | exo_ce: 0.551 | con_loss: 0.109 | loss_cen: 0.040\n",
            "epoch: 2/5 + 600/627 | exo_aff_acc: 53.427 | ego_ce: 0.869 | exo_ce: 0.330 | con_loss: 0.186 | loss_cen: 0.040\n",
            "epoch=2 mKLD = 1.312 mSIM = 0.38 mNSS = 1.15 bestKLD = 1.69\n",
            "LR = [0.001, 0.002, 0.01, 0.02]\n",
            "epoch: 3/5 + 100/627 | exo_aff_acc: 55.062 | ego_ce: 0.828 | exo_ce: 0.333 | con_loss: 0.249 | loss_cen: 0.040\n",
            "epoch: 3/5 + 200/627 | exo_aff_acc: 55.688 | ego_ce: 1.011 | exo_ce: 0.495 | con_loss: 0.165 | loss_cen: 0.040\n",
            "epoch: 3/5 + 300/627 | exo_aff_acc: 56.219 | ego_ce: 0.929 | exo_ce: 0.515 | con_loss: 0.109 | loss_cen: 0.039\n",
            "epoch: 3/5 + 400/627 | exo_aff_acc: 56.539 | ego_ce: 1.009 | exo_ce: 0.456 | con_loss: 0.134 | loss_cen: 0.039\n",
            "epoch: 3/5 + 500/627 | exo_aff_acc: 56.656 | ego_ce: 1.023 | exo_ce: 0.419 | con_loss: 0.216 | loss_cen: 0.038\n",
            "epoch: 3/5 + 600/627 | exo_aff_acc: 57.281 | ego_ce: 1.069 | exo_ce: 0.443 | con_loss: 0.144 | loss_cen: 0.039\n",
            "epoch=3 mKLD = 1.27 mSIM = 0.391 mNSS = 1.157 bestKLD = 1.312\n",
            "LR = [0.001, 0.002, 0.01, 0.02]\n",
            "epoch: 4/5 + 100/627 | exo_aff_acc: 59.094 | ego_ce: 1.175 | exo_ce: 0.494 | con_loss: 0.210 | loss_cen: 0.038\n",
            "epoch: 4/5 + 200/627 | exo_aff_acc: 59.891 | ego_ce: 1.244 | exo_ce: 0.440 | con_loss: 0.211 | loss_cen: 0.038\n",
            "epoch: 4/5 + 300/627 | exo_aff_acc: 60.094 | ego_ce: 1.125 | exo_ce: 0.514 | con_loss: 0.216 | loss_cen: 0.036\n",
            "epoch: 4/5 + 400/627 | exo_aff_acc: 60.117 | ego_ce: 0.722 | exo_ce: 0.333 | con_loss: 0.199 | loss_cen: 0.036\n",
            "epoch: 4/5 + 500/627 | exo_aff_acc: 60.438 | ego_ce: 1.197 | exo_ce: 0.525 | con_loss: 0.165 | loss_cen: 0.036\n",
            "epoch: 4/5 + 600/627 | exo_aff_acc: 60.531 | ego_ce: 0.828 | exo_ce: 0.357 | con_loss: 0.198 | loss_cen: 0.037\n",
            "epoch=4 mKLD = 1.267 mSIM = 0.393 mNSS = 1.141 bestKLD = 1.27\n",
            "LR = [0.001, 0.002, 0.01, 0.02]\n",
            "epoch: 5/5 + 100/627 | exo_aff_acc: 61.875 | ego_ce: 0.812 | exo_ce: 0.309 | con_loss: 0.201 | loss_cen: 0.037\n",
            "epoch: 5/5 + 200/627 | exo_aff_acc: 61.812 | ego_ce: 0.657 | exo_ce: 0.290 | con_loss: 0.210 | loss_cen: 0.036\n",
            "epoch: 5/5 + 300/627 | exo_aff_acc: 61.604 | ego_ce: 1.232 | exo_ce: 0.462 | con_loss: 0.226 | loss_cen: 0.035\n",
            "epoch: 5/5 + 400/627 | exo_aff_acc: 61.711 | ego_ce: 0.918 | exo_ce: 0.443 | con_loss: 0.156 | loss_cen: 0.036\n",
            "epoch: 5/5 + 500/627 | exo_aff_acc: 61.644 | ego_ce: 1.113 | exo_ce: 0.436 | con_loss: 0.147 | loss_cen: 0.036\n",
            "epoch: 5/5 + 600/627 | exo_aff_acc: 61.880 | ego_ce: 1.125 | exo_ce: 0.407 | con_loss: 0.168 | loss_cen: 0.035\n",
            "epoch=5 mKLD = 1.259 mSIM = 0.394 mNSS = 1.142 bestKLD = 1.267\n"
          ]
        }
      ]
    },
    {
      "cell_type": "code",
      "source": [
        "# Run Testing as per the LOCATE repository with best paths seen\n",
        "!python test.py --data_root ../AGD20K/ --model_file ../best_seen.pth"
      ],
      "metadata": {
        "colab": {
          "base_uri": "https://localhost:8080/"
        },
        "id": "gyXqi7fhXjsv",
        "outputId": "26380c1e-444c-44eb-9a51-a454704bdbb5"
      },
      "execution_count": 3,
      "outputs": [
        {
          "output_type": "stream",
          "name": "stdout",
          "text": [
            "/usr/local/lib/python3.10/dist-packages/torch/utils/data/dataloader.py:563: UserWarning: This DataLoader will create 8 worker processes in total. Our suggested max number of worker in current system is 2, which is smaller than what this DataLoader is going to create. Please be aware that excessive worker creation might get DataLoader running slow or even freeze, lower the worker number to avoid potential slowness/freeze if necessary.\n",
            "  warnings.warn(_create_warning_msg(\n",
            "100% 1675/1675 [01:21<00:00, 20.52it/s]\n",
            "KLD = 1.226\n",
            "SIM = 0.401\n",
            "NSS = 1.177\n"
          ]
        }
      ]
    },
    {
      "cell_type": "code",
      "source": [
        "# Run Testing - from the modified training ones. (trainMod)(manually enter from save_models/) (seen)\n",
        "!python test.py --data_root ../AGD20K/ --model_file save_models/20231211_221135/best_model_5_1.259_0.394_1.142.pth"
      ],
      "metadata": {
        "colab": {
          "base_uri": "https://localhost:8080/"
        },
        "id": "-_ru06NnXpfB",
        "outputId": "ac97fce8-7ef7-4755-f0d6-84d450eba30f"
      },
      "execution_count": 4,
      "outputs": [
        {
          "output_type": "stream",
          "name": "stdout",
          "text": [
            "/usr/local/lib/python3.10/dist-packages/torch/utils/data/dataloader.py:563: UserWarning: This DataLoader will create 8 worker processes in total. Our suggested max number of worker in current system is 2, which is smaller than what this DataLoader is going to create. Please be aware that excessive worker creation might get DataLoader running slow or even freeze, lower the worker number to avoid potential slowness/freeze if necessary.\n",
            "  warnings.warn(_create_warning_msg(\n",
            "100% 1675/1675 [01:20<00:00, 20.71it/s]\n",
            "KLD = 1.259\n",
            "SIM = 0.394\n",
            "NSS = 1.142\n"
          ]
        }
      ]
    },
    {
      "cell_type": "code",
      "source": [
        "# Now for the unseen part. Due to time constraints, limiting epochs to 5\n",
        "# Run Training as per the LOCATE repository but Modified Train code for slightly faster code\n",
        "# modified num_workers (inc test) to 2 for colab efficiency, show every 50 steps\n",
        "# modified batch size to 32 and epochs to 5 to utilize gpu memory, testing on large batch size and less epochs\n",
        "# NOTE: done on V100 GPU on colab, each 100 step update takes about 5 mins to show. For faster sense of updates, try step size of 10\n",
        "# improved code calculation, reduced some loops using parallelization\n",
        "%cd LOCATE/\n",
        "!python trainMOD.py --data_root ../AGD20K/ --batch_size 32 --num_workers 2 --test_num_workers 2 --epochs 5 --divide Unseen"
      ],
      "metadata": {
        "colab": {
          "base_uri": "https://localhost:8080/"
        },
        "id": "MdVargVGw9n1",
        "outputId": "67ac52fb-ddf2-4202-8faf-6e1138df12bf"
      },
      "execution_count": 5,
      "outputs": [
        {
          "output_type": "stream",
          "name": "stdout",
          "text": [
            "[Errno 2] No such file or directory: 'LOCATE/'\n",
            "/content/LOCATE\n",
            "data_root=../AGD20K/\n",
            "save_root=save_models\n",
            "divide=Unseen\n",
            "crop_size=224\n",
            "resize_size=256\n",
            "num_workers=2\n",
            "batch_size=32\n",
            "warm_epoch=0\n",
            "epochs=5\n",
            "lr=0.001\n",
            "momentum=0.9\n",
            "weight_decay=0.0005\n",
            "show_step=100\n",
            "gpu=0\n",
            "viz=False\n",
            "test_batch_size=1\n",
            "test_num_workers=2\n",
            "num_classes=25\n",
            "exocentric_root=../AGD20K/Unseen/trainset/exocentric\n",
            "egocentric_root=../AGD20K/Unseen/trainset/egocentric\n",
            "test_root=../AGD20K/Unseen/testset/egocentric\n",
            "mask_root=../AGD20K/Unseen/testset/GT\n",
            "save_path=save_models/20231212_010025\n",
            "Train begining!\n",
            "LR = [0.001, 0.002, 0.01, 0.02]\n",
            "epoch: 1/5 + 100/417 | exo_aff_acc: 33.250 | ego_ce: 1.894 | exo_ce: 0.690 | con_loss: 0.000 | loss_cen: 0.045\n",
            "epoch: 1/5 + 200/417 | exo_aff_acc: 40.703 | ego_ce: 1.373 | exo_ce: 0.631 | con_loss: 0.000 | loss_cen: 0.045\n",
            "epoch: 1/5 + 300/417 | exo_aff_acc: 44.583 | ego_ce: 1.210 | exo_ce: 0.538 | con_loss: 0.000 | loss_cen: 0.044\n",
            "epoch: 1/5 + 400/417 | exo_aff_acc: 46.992 | ego_ce: 1.086 | exo_ce: 0.411 | con_loss: 0.000 | loss_cen: 0.044\n",
            "epoch=1 mKLD = 2.054 mSIM = 0.225 mNSS = 0.43 bestKLD = 1000\n",
            "LR = [0.001, 0.002, 0.01, 0.02]\n",
            "epoch: 2/5 + 100/417 | exo_aff_acc: 57.094 | ego_ce: 1.310 | exo_ce: 0.607 | con_loss: 0.146 | loss_cen: 0.043\n",
            "epoch: 2/5 + 200/417 | exo_aff_acc: 56.469 | ego_ce: 1.338 | exo_ce: 0.408 | con_loss: 0.205 | loss_cen: 0.042\n",
            "epoch: 2/5 + 300/417 | exo_aff_acc: 56.250 | ego_ce: 1.016 | exo_ce: 0.591 | con_loss: 0.171 | loss_cen: 0.040\n",
            "epoch: 2/5 + 400/417 | exo_aff_acc: 56.562 | ego_ce: 1.168 | exo_ce: 0.429 | con_loss: 0.179 | loss_cen: 0.040\n",
            "epoch=2 mKLD = 1.653 mSIM = 0.301 mNSS = 0.98 bestKLD = 2.054\n",
            "LR = [0.001, 0.002, 0.01, 0.02]\n",
            "epoch: 3/5 + 100/417 | exo_aff_acc: 56.094 | ego_ce: 0.872 | exo_ce: 0.390 | con_loss: 0.194 | loss_cen: 0.039\n",
            "epoch: 3/5 + 200/417 | exo_aff_acc: 56.609 | ego_ce: 0.890 | exo_ce: 0.386 | con_loss: 0.210 | loss_cen: 0.039\n",
            "epoch: 3/5 + 300/417 | exo_aff_acc: 57.323 | ego_ce: 0.719 | exo_ce: 0.335 | con_loss: 0.177 | loss_cen: 0.038\n",
            "epoch: 3/5 + 400/417 | exo_aff_acc: 57.531 | ego_ce: 0.783 | exo_ce: 0.397 | con_loss: 0.213 | loss_cen: 0.037\n",
            "epoch=3 mKLD = 1.554 mSIM = 0.33 mNSS = 1.068 bestKLD = 1.653\n",
            "LR = [0.001, 0.002, 0.01, 0.02]\n",
            "epoch: 4/5 + 100/417 | exo_aff_acc: 57.812 | ego_ce: 0.961 | exo_ce: 0.357 | con_loss: 0.173 | loss_cen: 0.037\n",
            "epoch: 4/5 + 200/417 | exo_aff_acc: 58.766 | ego_ce: 1.122 | exo_ce: 0.404 | con_loss: 0.185 | loss_cen: 0.037\n",
            "epoch: 4/5 + 300/417 | exo_aff_acc: 58.490 | ego_ce: 0.914 | exo_ce: 0.382 | con_loss: 0.162 | loss_cen: 0.036\n",
            "epoch: 4/5 + 400/417 | exo_aff_acc: 59.250 | ego_ce: 0.770 | exo_ce: 0.297 | con_loss: 0.138 | loss_cen: 0.036\n",
            "epoch=4 mKLD = 1.506 mSIM = 0.343 mNSS = 1.08 bestKLD = 1.554\n",
            "LR = [0.001, 0.002, 0.01, 0.02]\n",
            "epoch: 5/5 + 100/417 | exo_aff_acc: 60.625 | ego_ce: 1.034 | exo_ce: 0.349 | con_loss: 0.179 | loss_cen: 0.036\n",
            "epoch: 5/5 + 200/417 | exo_aff_acc: 60.859 | ego_ce: 0.992 | exo_ce: 0.390 | con_loss: 0.192 | loss_cen: 0.036\n",
            "epoch: 5/5 + 300/417 | exo_aff_acc: 60.885 | ego_ce: 1.095 | exo_ce: 0.416 | con_loss: 0.185 | loss_cen: 0.035\n",
            "epoch: 5/5 + 400/417 | exo_aff_acc: 60.984 | ego_ce: 0.983 | exo_ce: 0.390 | con_loss: 0.143 | loss_cen: 0.034\n",
            "epoch=5 mKLD = 1.473 mSIM = 0.353 mNSS = 1.109 bestKLD = 1.506\n"
          ]
        }
      ]
    },
    {
      "cell_type": "code",
      "source": [
        "# Run Testing as per the LOCATE repository with best paths unseen (don't forget --divide Unseen)\n",
        "!python test.py --data_root ../AGD20K/ --model_file ../best_unseen.pth --divide Unseen"
      ],
      "metadata": {
        "colab": {
          "base_uri": "https://localhost:8080/"
        },
        "id": "n3woXIuMxBu_",
        "outputId": "7c47fead-e661-4e34-8b08-486c72e569d4"
      },
      "execution_count": 12,
      "outputs": [
        {
          "output_type": "stream",
          "name": "stdout",
          "text": [
            "/usr/local/lib/python3.10/dist-packages/torch/utils/data/dataloader.py:563: UserWarning: This DataLoader will create 8 worker processes in total. Our suggested max number of worker in current system is 2, which is smaller than what this DataLoader is going to create. Please be aware that excessive worker creation might get DataLoader running slow or even freeze, lower the worker number to avoid potential slowness/freeze if necessary.\n",
            "  warnings.warn(_create_warning_msg(\n",
            "100% 540/540 [00:21<00:00, 24.66it/s]\n",
            "KLD = 1.405\n",
            "SIM = 0.372\n",
            "NSS = 1.157\n"
          ]
        }
      ]
    },
    {
      "cell_type": "code",
      "source": [
        "# Run Testing - from the modified training ones. (trainMod)(manually enter from save_models/) (unseen) (don't forget --divide Unseen)\n",
        "!python test.py --data_root ../AGD20K/ --model_file save_models/20231212_010025/best_model_5_1.473_0.353_1.109.pth --divide Unseen"
      ],
      "metadata": {
        "colab": {
          "base_uri": "https://localhost:8080/"
        },
        "id": "Yn8rwylUxDV6",
        "outputId": "0f0f5a37-b313-40ee-d00a-08467a3ef544"
      },
      "execution_count": 14,
      "outputs": [
        {
          "output_type": "stream",
          "name": "stdout",
          "text": [
            "/usr/local/lib/python3.10/dist-packages/torch/utils/data/dataloader.py:563: UserWarning: This DataLoader will create 8 worker processes in total. Our suggested max number of worker in current system is 2, which is smaller than what this DataLoader is going to create. Please be aware that excessive worker creation might get DataLoader running slow or even freeze, lower the worker number to avoid potential slowness/freeze if necessary.\n",
            "  warnings.warn(_create_warning_msg(\n",
            "100% 540/540 [00:22<00:00, 24.06it/s]\n",
            "KLD = 1.473\n",
            "SIM = 0.353\n",
            "NSS = 1.109\n"
          ]
        }
      ]
    }
  ]
}